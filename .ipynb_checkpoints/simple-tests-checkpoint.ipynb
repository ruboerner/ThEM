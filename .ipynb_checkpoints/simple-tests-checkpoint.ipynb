{
 "cells": [
  {
   "cell_type": "markdown",
   "id": "1d7439b5-5371-4a2c-80b5-5369610c8557",
   "metadata": {},
   "source": [
    "# Differential operators using _sympy_"
   ]
  },
  {
   "cell_type": "code",
   "execution_count": 1,
   "id": "0a649503-9e17-4f56-8a20-9f29e8603dc8",
   "metadata": {},
   "outputs": [],
   "source": [
    "from sympy import *"
   ]
  },
  {
   "cell_type": "markdown",
   "id": "ca38534f-ba81-4afb-aac8-4aae542218b3",
   "metadata": {},
   "source": [
    "## Gradient\n",
    "$$\n",
    "\\nabla f\n",
    "$$\n",
    "\n",
    "## Divergence\n",
    "$$\n",
    "\\nabla \\cdot \\mathbf F\n",
    "$$\n",
    "\n",
    "## Curl\n",
    "$$\n",
    "\\nabla \\times \\mathbf F\n",
    "$$"
   ]
  },
  {
   "cell_type": "code",
   "execution_count": 4,
   "id": "2f1e951b-91b0-44b2-88b3-cd180fb8e55f",
   "metadata": {},
   "outputs": [],
   "source": [
    "def nabla(f, x, y, z):\n",
    "    return Matrix([f.diff(x), f.diff(y), f.diff(z)])\n",
    "\n",
    "def nabla_v(f, x, y, z,  v):\n",
    "    return nabla(f, x, y, z).dot(v)\n",
    "\n",
    "def gradient_op(f, *variables):\n",
    "    \"\"\"Return the vector gradient of a scalar function.\"\"\"\n",
    "    return Matrix([f.diff(v) for v in variables ])\n",
    "\n",
    "def divergence_op(vec_F, *vars):\n",
    "    \"\"\"Return the scalar divergence of a vector field.\"\"\"\n",
    "    return sum( Matrix( [ vec_F[i].diff(v) for i,v in enumerate(vars)]) )\n",
    "\n",
    "def curl_part(vec_F, u, v, *vars):\n",
    "    return vec_F[v].diff(vars[u]) - vec_F[u].diff(vars[v])\n",
    "    \n",
    "def curl_op(vec_F, *vars):\n",
    "    \"\"\"Return the curl of a vector field.\"\"\"\n",
    "    return Matrix([curl_part(vec_F, u, v, *vars) for u, v in [(1,2), (2,0), (0,1)]])"
   ]
  },
  {
   "cell_type": "code",
   "execution_count": 5,
   "id": "dec9c156-58f3-4c25-92a3-1c4659d6c03d",
   "metadata": {},
   "outputs": [],
   "source": [
    "x, y, z = symbols('x y z', real=True)"
   ]
  },
  {
   "cell_type": "markdown",
   "id": "896f6f14-2f32-4408-9b24-534323243e50",
   "metadata": {},
   "source": [
    "Compute the gradient of\n",
    "$$\n",
    "f = \\frac{1}{r},\n",
    "$$\n",
    "where $r = \\sqrt{x^2 + y^2 + z^2}$.\n"
   ]
  },
  {
   "cell_type": "code",
   "execution_count": null,
   "id": "7a5f194f-ad93-46ea-ae92-545e76f001b4",
   "metadata": {},
   "outputs": [],
   "source": []
  }
 ],
 "metadata": {
  "kernelspec": {
   "display_name": "Python 3 (ipykernel)",
   "language": "python",
   "name": "python3"
  },
  "language_info": {
   "codemirror_mode": {
    "name": "ipython",
    "version": 3
   },
   "file_extension": ".py",
   "mimetype": "text/x-python",
   "name": "python",
   "nbconvert_exporter": "python",
   "pygments_lexer": "ipython3",
   "version": "3.11.8"
  }
 },
 "nbformat": 4,
 "nbformat_minor": 5
}
