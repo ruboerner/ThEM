{
 "cells": [
  {
   "cell_type": "markdown",
   "id": "1d7439b5-5371-4a2c-80b5-5369610c8557",
   "metadata": {},
   "source": [
    "# Differential operators using _sympy_"
   ]
  },
  {
   "cell_type": "code",
   "execution_count": 1,
   "id": "0a649503-9e17-4f56-8a20-9f29e8603dc8",
   "metadata": {},
   "outputs": [],
   "source": [
    "from sympy import *\n",
    "from sympy.vector import CoordSys3D"
   ]
  },
  {
   "cell_type": "markdown",
   "id": "ca38534f-ba81-4afb-aac8-4aae542218b3",
   "metadata": {},
   "source": [
    "## Gradient\n",
    "$$\n",
    "\\nabla f\n",
    "$$\n",
    "\n",
    "## Divergence\n",
    "$$\n",
    "\\nabla \\cdot \\mathbf F\n",
    "$$\n",
    "\n",
    "## Curl\n",
    "$$\n",
    "\\nabla \\times \\mathbf F\n",
    "$$"
   ]
  },
  {
   "cell_type": "code",
   "execution_count": 2,
   "id": "2f1e951b-91b0-44b2-88b3-cd180fb8e55f",
   "metadata": {},
   "outputs": [],
   "source": [
    "def nabla(f, x, y, z):\n",
    "    return Matrix([f.diff(x), f.diff(y), f.diff(z)])\n",
    "\n",
    "def nabla_v(f, x, y, z,  v):\n",
    "    return nabla(f, x, y, z).dot(v)\n",
    "\n",
    "def gradient_op(f, *variables):\n",
    "    \"\"\"Return the vector gradient of a scalar function.\"\"\"\n",
    "    return Matrix([f.diff(v) for v in variables ])\n",
    "\n",
    "def divergence_op(vec_F, *vars):\n",
    "    \"\"\"Return the scalar divergence of a vector field.\"\"\"\n",
    "    return sum( Matrix( [ vec_F[i].diff(v) for i,v in enumerate(vars)]) )\n",
    "\n",
    "def curl_part(vec_F, u, v, *vars):\n",
    "    return vec_F[v].diff(vars[u]) - vec_F[u].diff(vars[v])\n",
    "    \n",
    "def curl_op(vec_F, *vars):\n",
    "    \"\"\"Return the curl of a vector field.\"\"\"\n",
    "    return Matrix([curl_part(vec_F, u, v, *vars) for u, v in [(1,2), (2,0), (0,1)]])"
   ]
  },
  {
   "cell_type": "code",
   "execution_count": 3,
   "id": "dec9c156-58f3-4c25-92a3-1c4659d6c03d",
   "metadata": {},
   "outputs": [],
   "source": [
    "x, y, z = symbols('x y z', real=True)"
   ]
  },
  {
   "cell_type": "markdown",
   "id": "896f6f14-2f32-4408-9b24-534323243e50",
   "metadata": {},
   "source": [
    "Compute the gradient of\n",
    "$$\n",
    "f = \\frac{1}{r},\n",
    "$$\n",
    "where $r = \\sqrt{x^2 + y^2 + z^2}$.\n"
   ]
  },
  {
   "cell_type": "code",
   "execution_count": 4,
   "id": "7a5f194f-ad93-46ea-ae92-545e76f001b4",
   "metadata": {},
   "outputs": [],
   "source": [
    "r = sqrt(x**2 + y**2 + z**2)"
   ]
  },
  {
   "cell_type": "code",
   "execution_count": 5,
   "id": "d643cf4c-5216-43d9-a6d1-5a72c9f807ef",
   "metadata": {},
   "outputs": [
    {
     "data": {
      "text/latex": [
       "$\\displaystyle \\left[\\begin{matrix}a\\\\b\\\\c\\end{matrix}\\right]$"
      ],
      "text/plain": [
       "Matrix([\n",
       "[a],\n",
       "[b],\n",
       "[c]])"
      ]
     },
     "execution_count": 5,
     "metadata": {},
     "output_type": "execute_result"
    }
   ],
   "source": [
    "a, b, c = symbols('a b c', real=True)\n",
    "V = a * x + b * y + c * z\n",
    "gradient_op(V, x, y, z)"
   ]
  },
  {
   "cell_type": "code",
   "execution_count": 5,
   "id": "1b8f0aac-0fdd-4c86-8baa-a685b0adf637",
   "metadata": {},
   "outputs": [],
   "source": [
    "g = gradient_op(1 / r, x, y, z) #subs(sqrt(x**2 + y**2 + z**2), r)"
   ]
  },
  {
   "cell_type": "code",
   "execution_count": 6,
   "id": "9fc138ef-84ab-4e27-8d2c-a92e8570733f",
   "metadata": {},
   "outputs": [
    {
     "data": {
      "text/latex": [
       "$\\displaystyle \\frac{3 x^{2}}{\\left(x^{2} + y^{2} + z^{2}\\right)^{\\frac{5}{2}}} + \\frac{3 y^{2}}{\\left(x^{2} + y^{2} + z^{2}\\right)^{\\frac{5}{2}}} + \\frac{3 z^{2}}{\\left(x^{2} + y^{2} + z^{2}\\right)^{\\frac{5}{2}}} - \\frac{3}{\\left(x^{2} + y^{2} + z^{2}\\right)^{\\frac{3}{2}}}$"
      ],
      "text/plain": [
       "3*x**2/(x**2 + y**2 + z**2)**(5/2) + 3*y**2/(x**2 + y**2 + z**2)**(5/2) + 3*z**2/(x**2 + y**2 + z**2)**(5/2) - 3/(x**2 + y**2 + z**2)**(3/2)"
      ]
     },
     "execution_count": 6,
     "metadata": {},
     "output_type": "execute_result"
    }
   ],
   "source": [
    "divergence_op(g, x, y, z)"
   ]
  },
  {
   "cell_type": "code",
   "execution_count": 7,
   "id": "62c2ca97-c14d-4b5f-8846-a51e74fefe13",
   "metadata": {},
   "outputs": [
    {
     "data": {
      "text/latex": [
       "$\\displaystyle \\left[\\begin{matrix}0\\\\0\\\\0\\end{matrix}\\right]$"
      ],
      "text/plain": [
       "Matrix([\n",
       "[0],\n",
       "[0],\n",
       "[0]])"
      ]
     },
     "execution_count": 7,
     "metadata": {},
     "output_type": "execute_result"
    }
   ],
   "source": [
    "curl_op(g, x, y, z)"
   ]
  },
  {
   "cell_type": "markdown",
   "id": "ea69c6a1-3242-4402-b911-882fb5da5a10",
   "metadata": {},
   "source": [
    "## Curl formula\n"
   ]
  },
  {
   "cell_type": "code",
   "execution_count": 8,
   "id": "9c088907-bcc0-4454-99a0-d0facc66540e",
   "metadata": {},
   "outputs": [
    {
     "data": {
      "text/plain": [
       "(P(x, y, z), Q(x, y, z), R(x, y, z))"
      ]
     },
     "execution_count": 8,
     "metadata": {},
     "output_type": "execute_result"
    }
   ],
   "source": [
    "P, Q, R = [Function(ch, real = True)(x, y, z) for ch in ['P', 'Q', 'R']]\n",
    "P, Q, R"
   ]
  },
  {
   "cell_type": "code",
   "execution_count": 9,
   "id": "d665a2ce-4f7b-47cb-a49a-aa74fc910704",
   "metadata": {},
   "outputs": [
    {
     "data": {
      "text/latex": [
       "$\\displaystyle \\left[\\begin{matrix}- \\frac{\\partial}{\\partial z} Q{\\left(x,y,z \\right)} + \\frac{\\partial}{\\partial y} R{\\left(x,y,z \\right)}\\\\\\frac{\\partial}{\\partial z} P{\\left(x,y,z \\right)} - \\frac{\\partial}{\\partial x} R{\\left(x,y,z \\right)}\\\\- \\frac{\\partial}{\\partial y} P{\\left(x,y,z \\right)} + \\frac{\\partial}{\\partial x} Q{\\left(x,y,z \\right)}\\end{matrix}\\right]$"
      ],
      "text/plain": [
       "Matrix([\n",
       "[-Derivative(Q(x, y, z), z) + Derivative(R(x, y, z), y)],\n",
       "[ Derivative(P(x, y, z), z) - Derivative(R(x, y, z), x)],\n",
       "[-Derivative(P(x, y, z), y) + Derivative(Q(x, y, z), x)]])"
      ]
     },
     "execution_count": 9,
     "metadata": {},
     "output_type": "execute_result"
    }
   ],
   "source": [
    "curl_op(Matrix([P, Q, R]), x, y, z)"
   ]
  },
  {
   "cell_type": "markdown",
   "id": "040ec212-effd-4ae1-b73a-24a88ddaf16c",
   "metadata": {},
   "source": [
    "## Divergence formula\n"
   ]
  },
  {
   "cell_type": "code",
   "execution_count": 10,
   "id": "cf209c91-852c-43b6-890f-8f8027ae12f7",
   "metadata": {},
   "outputs": [
    {
     "data": {
      "text/latex": [
       "$\\displaystyle \\frac{\\partial}{\\partial x} P{\\left(x,y,z \\right)} + \\frac{\\partial}{\\partial y} Q{\\left(x,y,z \\right)} + \\frac{\\partial}{\\partial z} R{\\left(x,y,z \\right)}$"
      ],
      "text/plain": [
       "Derivative(P(x, y, z), x) + Derivative(Q(x, y, z), y) + Derivative(R(x, y, z), z)"
      ]
     },
     "execution_count": 10,
     "metadata": {},
     "output_type": "execute_result"
    }
   ],
   "source": [
    "divergence_op(Matrix([P, Q, R]), x, y, z)"
   ]
  },
  {
   "cell_type": "markdown",
   "id": "58199c50-36f0-45e3-aacd-c82c849f463a",
   "metadata": {},
   "source": [
    "# Non-cartesian coord systems"
   ]
  },
  {
   "cell_type": "code",
   "execution_count": 48,
   "id": "be14ac15-a100-432f-af2a-ba0bd9adeab9",
   "metadata": {},
   "outputs": [],
   "source": [
    "C = CoordSys3D('C')\n",
    "\n",
    "S = C.create_new('S', transformation='spherical', vector_names=list('RTP'))\n",
    "Y = C.create_new('Y', transformation='cylindrical', vector_names=list('RTZ'))"
   ]
  },
  {
   "cell_type": "code",
   "execution_count": 49,
   "id": "e127807c-18a7-49ad-94fe-77a7103f0b7b",
   "metadata": {},
   "outputs": [],
   "source": [
    "transs = Matrix(S.transformation_to_parent())\n",
    "transy = Matrix(Y.transformation_to_parent())"
   ]
  },
  {
   "cell_type": "code",
   "execution_count": 50,
   "id": "4b9445b2-b1cb-49f5-ad0b-4155f2978c34",
   "metadata": {},
   "outputs": [],
   "source": [
    "v = Matrix([x, y, z])"
   ]
  },
  {
   "cell_type": "code",
   "execution_count": 51,
   "id": "57b02dc9-9f2f-42d2-ae15-a2fb835a5743",
   "metadata": {},
   "outputs": [
    {
     "data": {
      "text/plain": [
       "(Y.r, Y.theta, Y.z)"
      ]
     },
     "execution_count": 51,
     "metadata": {},
     "output_type": "execute_result"
    }
   ],
   "source": [
    "Y.base_scalars()"
   ]
  },
  {
   "cell_type": "code",
   "execution_count": 52,
   "id": "7073b7d1-25cf-40c4-bdd2-1a67a3979893",
   "metadata": {},
   "outputs": [
    {
     "data": {
      "text/plain": [
       "(S.r, S.theta, S.phi)"
      ]
     },
     "execution_count": 52,
     "metadata": {},
     "output_type": "execute_result"
    }
   ],
   "source": [
    "S.base_scalars()"
   ]
  },
  {
   "cell_type": "code",
   "execution_count": 53,
   "id": "2c1872f7-7273-4a41-99a0-9a84085b5612",
   "metadata": {},
   "outputs": [],
   "source": [
    "Js = transs.jacobian([S.r, S.theta, S.phi])\n",
    "Jy = transy.jacobian([Y.r, Y.theta, Y.z])"
   ]
  },
  {
   "cell_type": "code",
   "execution_count": 54,
   "id": "46ce3789-2275-4441-bc08-ee727c42e005",
   "metadata": {},
   "outputs": [
    {
     "data": {
      "text/latex": [
       "$\\displaystyle \\left[\\begin{matrix}\\mathbf{{r}_{S}} \\sin{\\left(\\mathbf{{theta}_{S}} \\right)} \\cos{\\left(\\mathbf{{phi}_{S}} \\right)}\\\\\\mathbf{{r}_{S}} \\sin{\\left(\\mathbf{{phi}_{S}} \\right)} \\sin{\\left(\\mathbf{{theta}_{S}} \\right)}\\\\\\mathbf{{r}_{S}} \\cos{\\left(\\mathbf{{theta}_{S}} \\right)}\\end{matrix}\\right]$"
      ],
      "text/plain": [
       "Matrix([\n",
       "[S.r*sin(S.theta)*cos(S.phi)],\n",
       "[S.r*sin(S.phi)*sin(S.theta)],\n",
       "[           S.r*cos(S.theta)]])"
      ]
     },
     "execution_count": 54,
     "metadata": {},
     "output_type": "execute_result"
    }
   ],
   "source": [
    "transs"
   ]
  },
  {
   "cell_type": "code",
   "execution_count": 55,
   "id": "7fed6155-f2b6-40ab-af8b-5ad2bd0ad9ff",
   "metadata": {},
   "outputs": [
    {
     "data": {
      "text/latex": [
       "$\\displaystyle \\left[\\begin{matrix}\\mathbf{{r}_{Y}} \\cos{\\left(\\mathbf{{theta}_{Y}} \\right)}\\\\\\mathbf{{r}_{Y}} \\sin{\\left(\\mathbf{{theta}_{Y}} \\right)}\\\\\\mathbf{{z}_{Y}}\\end{matrix}\\right]$"
      ],
      "text/plain": [
       "Matrix([\n",
       "[Y.r*cos(Y.theta)],\n",
       "[Y.r*sin(Y.theta)],\n",
       "[             Y.z]])"
      ]
     },
     "execution_count": 55,
     "metadata": {},
     "output_type": "execute_result"
    }
   ],
   "source": [
    "transy"
   ]
  },
  {
   "cell_type": "code",
   "execution_count": 56,
   "id": "00934c04-ccc6-4192-99ea-73f17ba2f98d",
   "metadata": {},
   "outputs": [
    {
     "data": {
      "text/latex": [
       "$\\displaystyle \\left[\\begin{matrix}\\sin{\\left(\\mathbf{{theta}_{S}} \\right)} \\cos{\\left(\\mathbf{{phi}_{S}} \\right)} & \\mathbf{{r}_{S}} \\cos{\\left(\\mathbf{{phi}_{S}} \\right)} \\cos{\\left(\\mathbf{{theta}_{S}} \\right)} & - \\mathbf{{r}_{S}} \\sin{\\left(\\mathbf{{phi}_{S}} \\right)} \\sin{\\left(\\mathbf{{theta}_{S}} \\right)}\\\\\\sin{\\left(\\mathbf{{phi}_{S}} \\right)} \\sin{\\left(\\mathbf{{theta}_{S}} \\right)} & \\mathbf{{r}_{S}} \\sin{\\left(\\mathbf{{phi}_{S}} \\right)} \\cos{\\left(\\mathbf{{theta}_{S}} \\right)} & \\mathbf{{r}_{S}} \\sin{\\left(\\mathbf{{theta}_{S}} \\right)} \\cos{\\left(\\mathbf{{phi}_{S}} \\right)}\\\\\\cos{\\left(\\mathbf{{theta}_{S}} \\right)} & - \\mathbf{{r}_{S}} \\sin{\\left(\\mathbf{{theta}_{S}} \\right)} & 0\\end{matrix}\\right]$"
      ],
      "text/plain": [
       "Matrix([\n",
       "[sin(S.theta)*cos(S.phi), S.r*cos(S.phi)*cos(S.theta), -S.r*sin(S.phi)*sin(S.theta)],\n",
       "[sin(S.phi)*sin(S.theta), S.r*sin(S.phi)*cos(S.theta),  S.r*sin(S.theta)*cos(S.phi)],\n",
       "[           cos(S.theta),           -S.r*sin(S.theta),                            0]])"
      ]
     },
     "execution_count": 56,
     "metadata": {},
     "output_type": "execute_result"
    }
   ],
   "source": [
    "Js"
   ]
  },
  {
   "cell_type": "code",
   "execution_count": 57,
   "id": "611a7ae3-dd1d-4119-9841-ad141e3b85ec",
   "metadata": {},
   "outputs": [
    {
     "data": {
      "text/latex": [
       "$\\displaystyle \\left[\\begin{matrix}\\cos{\\left(\\mathbf{{theta}_{Y}} \\right)} & - \\mathbf{{r}_{Y}} \\sin{\\left(\\mathbf{{theta}_{Y}} \\right)} & 0\\\\\\sin{\\left(\\mathbf{{theta}_{Y}} \\right)} & \\mathbf{{r}_{Y}} \\cos{\\left(\\mathbf{{theta}_{Y}} \\right)} & 0\\\\0 & 0 & 1\\end{matrix}\\right]$"
      ],
      "text/plain": [
       "Matrix([\n",
       "[cos(Y.theta), -Y.r*sin(Y.theta), 0],\n",
       "[sin(Y.theta),  Y.r*cos(Y.theta), 0],\n",
       "[           0,                 0, 1]])"
      ]
     },
     "execution_count": 57,
     "metadata": {},
     "output_type": "execute_result"
    }
   ],
   "source": [
    "Jy"
   ]
  },
  {
   "cell_type": "code",
   "execution_count": 63,
   "id": "8a61c6ed-9cf6-4bbb-b29d-64f0aa022c4a",
   "metadata": {},
   "outputs": [
    {
     "data": {
      "text/latex": [
       "$\\displaystyle \\mathbf{{r}_{Y}}$"
      ],
      "text/plain": [
       "Y.r"
      ]
     },
     "execution_count": 63,
     "metadata": {},
     "output_type": "execute_result"
    }
   ],
   "source": [
    "det(Jy).simplify()"
   ]
  },
  {
   "cell_type": "code",
   "execution_count": 60,
   "id": "9b7e3c26-770c-46b6-8639-d807bfd51d3f",
   "metadata": {},
   "outputs": [
    {
     "data": {
      "text/latex": [
       "$\\displaystyle \\mathbf{{r}_{S}}^{2} \\sin{\\left(\\mathbf{{theta}_{S}} \\right)}$"
      ],
      "text/plain": [
       "S.r**2*sin(S.theta)"
      ]
     },
     "execution_count": 60,
     "metadata": {},
     "output_type": "execute_result"
    }
   ],
   "source": [
    "det(Js).simplify()"
   ]
  },
  {
   "cell_type": "code",
   "execution_count": 68,
   "id": "368f3d21-e9bd-4dda-98dc-28c3ba8d3c16",
   "metadata": {},
   "outputs": [
    {
     "data": {
      "text/latex": [
       "$\\displaystyle \\mathbf{{r}_{S}}^{2} \\sin{\\left(\\mathbf{{theta}_{S}} \\right)}$"
      ],
      "text/plain": [
       "S.r**2*sin(S.theta)"
      ]
     },
     "execution_count": 68,
     "metadata": {},
     "output_type": "execute_result"
    }
   ],
   "source": [
    "Js.det().simplify()"
   ]
  },
  {
   "cell_type": "markdown",
   "id": "9f34f446-0ec7-48d6-8614-7600e85ce960",
   "metadata": {},
   "source": [
    "[](https://mzucker.github.io/2018/04/12/sympy-part-3-moar-derivatives.html)"
   ]
  },
  {
   "cell_type": "code",
   "execution_count": 25,
   "id": "e3b62925-ff0a-4289-8710-5a1bdc7c804d",
   "metadata": {},
   "outputs": [],
   "source": [
    "ϕ, θ = symbols(r'\\varphi, \\theta', real=True, positive=True)"
   ]
  },
  {
   "cell_type": "code",
   "execution_count": 26,
   "id": "52559ff2-f12e-43d9-8051-cf8368e1d185",
   "metadata": {},
   "outputs": [],
   "source": [
    "r = symbols('r', real=True, positive=True)"
   ]
  },
  {
   "cell_type": "code",
   "execution_count": 27,
   "id": "d814896a-d733-4712-85d5-eb151f68d4ff",
   "metadata": {},
   "outputs": [],
   "source": [
    "trans = {\n",
    "    x: r * sin(θ) * cos(ϕ),\n",
    "    y: r * sin(θ) * sin(ϕ),\n",
    "    z: r * cos(θ)\n",
    "}"
   ]
  },
  {
   "cell_type": "code",
   "execution_count": 29,
   "id": "fed00ce1-2fec-48b1-887a-56efdcbd98a1",
   "metadata": {},
   "outputs": [
    {
     "data": {
      "text/latex": [
       "$\\displaystyle \\left[\\begin{matrix}x\\\\y\\\\z\\end{matrix}\\right]$"
      ],
      "text/plain": [
       "Matrix([\n",
       "[x],\n",
       "[y],\n",
       "[z]])"
      ]
     },
     "execution_count": 29,
     "metadata": {},
     "output_type": "execute_result"
    }
   ],
   "source": [
    "xyz = Matrix([x, y, z])\n",
    "xyz"
   ]
  },
  {
   "cell_type": "code",
   "execution_count": 31,
   "id": "3c2d89a8-0f69-4b6a-90eb-948013586530",
   "metadata": {},
   "outputs": [
    {
     "data": {
      "text/latex": [
       "$\\displaystyle \\left[\\begin{matrix}r \\sin{\\left(\\theta \\right)} \\cos{\\left(\\varphi \\right)}\\\\r \\sin{\\left(\\theta \\right)} \\sin{\\left(\\varphi \\right)}\\\\r \\cos{\\left(\\theta \\right)}\\end{matrix}\\right]$"
      ],
      "text/plain": [
       "Matrix([\n",
       "[r*sin(\\theta)*cos(\\varphi)],\n",
       "[r*sin(\\theta)*sin(\\varphi)],\n",
       "[             r*cos(\\theta)]])"
      ]
     },
     "execution_count": 31,
     "metadata": {},
     "output_type": "execute_result"
    }
   ],
   "source": [
    "rr = xyz.subs(trans)\n",
    "rr"
   ]
  },
  {
   "cell_type": "code",
   "execution_count": null,
   "id": "039abaaa-d9de-4821-9b99-d75b2084889d",
   "metadata": {},
   "outputs": [],
   "source": []
  }
 ],
 "metadata": {
  "kernelspec": {
   "display_name": "Python 3 (ipykernel)",
   "language": "python",
   "name": "python3"
  },
  "language_info": {
   "codemirror_mode": {
    "name": "ipython",
    "version": 3
   },
   "file_extension": ".py",
   "mimetype": "text/x-python",
   "name": "python",
   "nbconvert_exporter": "python",
   "pygments_lexer": "ipython3",
   "version": "3.11.8"
  }
 },
 "nbformat": 4,
 "nbformat_minor": 5
}
