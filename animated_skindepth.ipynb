{
 "cells": [
  {
   "cell_type": "code",
   "execution_count": 1,
   "id": "7ff18f68-4802-4fff-90c5-a0f82ddfb0ea",
   "metadata": {},
   "outputs": [],
   "source": [
    "import matplotlib.pyplot as plt\n",
    "import numpy as np\n",
    "from matplotlib.animation import FuncAnimation\n",
    "\n",
    "def h(z, a, b, w, t):\n",
    "    return np.exp(-1j * a * z) * np.exp(-b * z) * np.exp(1j * w * t)\n",
    "\n",
    "T = 1.0\n",
    "w = 2 * np.pi / T \n",
    "sigma = 1e-2\n",
    "mu = np.pi * 4e-7\n",
    "\n",
    "kk = np.sqrt(w * mu * sigma / 2)\n",
    "a = kk\n",
    "b = kk\n",
    "zair = np.arange(start=-10000, stop=0, step=100)\n",
    "zz = np.arange(start=0, stop=6e4, step=600)\n",
    "tau = 1.0 / kk\n",
    "\n",
    "fig, ax = plt.subplots(figsize=(4, 6), layout='constrained')\n",
    "\n",
    "def update(frame):\n",
    "    ax.clear()\n",
    "    t = frame * T / 100.0\n",
    "    ax.plot([np.real(np.exp(1j * w * t)) for _ in zair], zair, color='blue', label='', zorder=1)\n",
    "    ax.plot([np.real(h(z, a, b, w, t)) for z in zz], zz, color='blue', label='Re', zorder=2)\n",
    "    ax.plot([np.imag(h(z, a, b, w, t)) for z in zz], zz, label='Im', zorder=3)\n",
    "    ax.fill_betweenx(zz, -np.exp(-b * zz), np.exp(-b * zz), color='grey', alpha=0.5, label='')\n",
    "    zp = w * t / a if a > 0.0 else np.max(zz) + w * t / a\n",
    "    ax.scatter(np.real(h(zp, a, b, w, t)), zp, marker='*', color='black', label='phase')\n",
    "    ax.axhline(y=tau, color='red', label='τ')\n",
    "    ax.axhline(y=2 * np.pi * tau, color='green', label='λ')\n",
    "    ax.set_ylabel('Depth in km')\n",
    "    ax.set_xlabel('Normalized amplitude')\n",
    "    ax.set_xlim(-1.0, 1.0)\n",
    "    ax.set_ylim(min(zair), max(zz))\n",
    "    ax.invert_yaxis()\n",
    "    ax.legend(loc='lower left')\n",
    "\n",
    "ani = FuncAnimation(fig, update, frames=100, interval=50)\n",
    "\n",
    "ani.save('animation.gif')"
   ]
  },
  {
   "cell_type": "code",
   "execution_count": null,
   "id": "39dda347-68b4-49ac-b7c4-ed001a26c41c",
   "metadata": {},
   "outputs": [],
   "source": []
  }
 ],
 "metadata": {
  "kernelspec": {
   "display_name": "Python 3 (ipykernel)",
   "language": "python",
   "name": "python3"
  },
  "language_info": {
   "codemirror_mode": {
    "name": "ipython",
    "version": 3
   },
   "file_extension": ".py",
   "mimetype": "text/x-python",
   "name": "python",
   "nbconvert_exporter": "python",
   "pygments_lexer": "ipython3",
   "version": "3.11.8"
  }
 },
 "nbformat": 4,
 "nbformat_minor": 5
}
