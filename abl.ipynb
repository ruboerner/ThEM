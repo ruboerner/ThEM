{
 "cells": [
  {
   "cell_type": "code",
   "execution_count": 1,
   "metadata": {},
   "outputs": [],
   "source": [
    "from sympy import diff, symbols, sqrt, pi, exp, I, simplify, Derivative, Matrix\n",
    "x, y, z, r, omega, mu, sigma, m = symbols('x y z r omega mu sigma m', real=True)\n",
    "k = symbols('k')"
   ]
  },
  {
   "cell_type": "code",
   "execution_count": 2,
   "metadata": {},
   "outputs": [
    {
     "data": {
      "text/latex": [
       "$\\displaystyle \\frac{i m \\mu \\omega e^{- i k r}}{4 \\pi r}$"
      ],
      "text/plain": [
       "I*m*mu*omega*exp(-I*k*r)/(4*pi*r)"
      ]
     },
     "execution_count": 2,
     "metadata": {},
     "output_type": "execute_result"
    }
   ],
   "source": [
    "# r = sqrt(x**2 + y**2 + z**2)\n",
    "Fz = I * omega * mu * m / (4 * pi * r) * exp(-I * k * r)\n",
    "Fz"
   ]
  },
  {
   "cell_type": "code",
   "execution_count": 3,
   "metadata": {},
   "outputs": [
    {
     "data": {
      "text/latex": [
       "$\\displaystyle \\frac{m \\mu \\omega \\left(k r - i\\right) e^{- i k r}}{4 \\pi r^{2}}$"
      ],
      "text/plain": [
       "m*mu*omega*(k*r - I)*exp(-I*k*r)/(4*pi*r**2)"
      ]
     },
     "execution_count": 3,
     "metadata": {},
     "output_type": "execute_result"
    }
   ],
   "source": [
    "diff(Fz, r).factor().simplify()"
   ]
  },
  {
   "cell_type": "code",
   "execution_count": 4,
   "metadata": {},
   "outputs": [
    {
     "data": {
      "text/latex": [
       "$\\displaystyle k r - i$"
      ],
      "text/plain": [
       "k*r - I"
      ]
     },
     "execution_count": 4,
     "metadata": {},
     "output_type": "execute_result"
    }
   ],
   "source": [
    "simplify(-I*(1+I*k*r))"
   ]
  },
  {
   "cell_type": "markdown",
   "metadata": {},
   "source": [
    "$$\n",
    "E_\\varphi = -\\frac{i \\omega \\mu m }{4 \\pi r^2} (1 + i k r) \\exp(-i k r)\n",
    "$$"
   ]
  },
  {
   "cell_type": "markdown",
   "metadata": {},
   "source": [
    "## Divergence and Gradient in a Cylindrical Coordinate System\n",
    "\n",
    "$$\n",
    "\\nabla \\cdot \\mathbf A = \\frac{1}{r} \\partial_r(r A_r) + \n",
    "\\frac{1}{r} \\partial_\\varphi A_\\varphi +\n",
    "\\partial_z A_z\n",
    "$$\n",
    "\n",
    "$$\n",
    "\\nabla f = \\partial_r f \\mathbf e_r +\n",
    "\\frac{1}{r} \\partial_\\varphi f \\mathbf e_\\varphi +\n",
    "\\partial_z f \\mathbf e_z\n",
    "$$\n",
    "\n",
    "First: Divergence of $\\mathbf F$, i.e., $z$-derivative of $F_z$.\n",
    "\n",
    "$$\n",
    "\\nabla \\cdot \\mathbf F = \\partial_z F_z\n",
    "$$"
   ]
  },
  {
   "cell_type": "code",
   "execution_count": 5,
   "metadata": {},
   "outputs": [],
   "source": [
    "divF = diff(Fz.subs(r, sqrt(x**2 + y**2 + z**2)), z).subs(sqrt(x**2 + y**2 + z**2), r).simplify()"
   ]
  },
  {
   "cell_type": "code",
   "execution_count": 6,
   "metadata": {},
   "outputs": [
    {
     "data": {
      "text/latex": [
       "$\\displaystyle \\frac{m \\mu \\omega z \\left(k r - i\\right) e^{- i k r}}{4 \\pi r^{3}}$"
      ],
      "text/plain": [
       "m*mu*omega*z*(k*r - I)*exp(-I*k*r)/(4*pi*r**3)"
      ]
     },
     "execution_count": 6,
     "metadata": {},
     "output_type": "execute_result"
    }
   ],
   "source": [
    "divF"
   ]
  },
  {
   "cell_type": "code",
   "execution_count": 7,
   "metadata": {},
   "outputs": [],
   "source": [
    "chain = lambda F, v: diff(F.subs(r, sqrt(x**2 + y**2 + z**2)), v).subs(sqrt(x**2 + y**2 + z**2), r).simplify()"
   ]
  },
  {
   "cell_type": "code",
   "execution_count": 8,
   "metadata": {},
   "outputs": [
    {
     "data": {
      "text/latex": [
       "$\\displaystyle \\frac{m \\mu \\omega z \\left(k r - i\\right) e^{- i k r}}{4 \\pi r^{3}}$"
      ],
      "text/plain": [
       "m*mu*omega*z*(k*r - I)*exp(-I*k*r)/(4*pi*r**3)"
      ]
     },
     "execution_count": 8,
     "metadata": {},
     "output_type": "execute_result"
    }
   ],
   "source": [
    "chain(Fz, z)"
   ]
  },
  {
   "cell_type": "code",
   "execution_count": 9,
   "metadata": {},
   "outputs": [],
   "source": [
    "Hx = chain(divF, x).factor() / (I * omega * mu)\n",
    "Hy = chain(divF, y).factor() / (I * omega * mu)\n",
    "Hz = (chain(divF, z) + k**2 * Fz) / (I * omega * mu)"
   ]
  },
  {
   "cell_type": "code",
   "execution_count": 10,
   "metadata": {},
   "outputs": [
    {
     "data": {
      "text/latex": [
       "$\\displaystyle - \\frac{m \\left(- k^{2} r^{4} + k^{2} r^{2} z^{2} + i k r^{3} - 3 i k r z^{2} + r^{2} - 3 z^{2}\\right) e^{- i k r}}{4 \\pi r^{5}}$"
      ],
      "text/plain": [
       "-m*(-k**2*r**4 + k**2*r**2*z**2 + I*k*r**3 - 3*I*k*r*z**2 + r**2 - 3*z**2)*exp(-I*k*r)/(4*pi*r**5)"
      ]
     },
     "execution_count": 10,
     "metadata": {},
     "output_type": "execute_result"
    }
   ],
   "source": [
    "Hz.factor()"
   ]
  },
  {
   "cell_type": "code",
   "execution_count": 11,
   "metadata": {},
   "outputs": [
    {
     "data": {
      "text/latex": [
       "$\\displaystyle \\frac{m \\left(k^{2} r^{4} - k^{2} r^{2} z^{2} - i k r^{3} + 3 i k r z^{2} - r^{2} + 3 z^{2}\\right) e^{- i k r}}{4 \\pi r^{5}}$"
      ],
      "text/plain": [
       "m*(k**2*r**4 - k**2*r**2*z**2 - I*k*r**3 + 3*I*k*r*z**2 - r**2 + 3*z**2)*exp(-I*k*r)/(4*pi*r**5)"
      ]
     },
     "execution_count": 11,
     "metadata": {},
     "output_type": "execute_result"
    }
   ],
   "source": [
    "Hz.factor().simplify()"
   ]
  },
  {
   "cell_type": "code",
   "execution_count": 12,
   "metadata": {},
   "outputs": [
    {
     "data": {
      "text/latex": [
       "$\\displaystyle - \\frac{i m \\mu \\omega \\left(k^{2} r^{2} z^{2} + i k r^{3} - 3 i k r z^{2} + r^{2} - 3 z^{2}\\right) e^{- i k r}}{4 \\pi r^{5}}$"
      ],
      "text/plain": [
       "-I*m*mu*omega*(k**2*r**2*z**2 + I*k*r**3 - 3*I*k*r*z**2 + r**2 - 3*z**2)*exp(-I*k*r)/(4*pi*r**5)"
      ]
     },
     "execution_count": 12,
     "metadata": {},
     "output_type": "execute_result"
    }
   ],
   "source": [
    "chain(divF, z).factor()"
   ]
  },
  {
   "cell_type": "code",
   "execution_count": 13,
   "metadata": {},
   "outputs": [
    {
     "data": {
      "text/latex": [
       "$\\displaystyle - \\frac{m x z \\left(k^{2} r^{2} - 3 i k r - 3\\right) e^{- i k r}}{4 \\pi r^{5}}$"
      ],
      "text/plain": [
       "-m*x*z*(k**2*r**2 - 3*I*k*r - 3)*exp(-I*k*r)/(4*pi*r**5)"
      ]
     },
     "execution_count": 13,
     "metadata": {},
     "output_type": "execute_result"
    }
   ],
   "source": [
    "Hx"
   ]
  },
  {
   "cell_type": "code",
   "execution_count": 14,
   "metadata": {},
   "outputs": [
    {
     "data": {
      "text/latex": [
       "$\\displaystyle - \\frac{m y z \\left(k^{2} r^{2} - 3 i k r - 3\\right) e^{- i k r}}{4 \\pi r^{5}}$"
      ],
      "text/plain": [
       "-m*y*z*(k**2*r**2 - 3*I*k*r - 3)*exp(-I*k*r)/(4*pi*r**5)"
      ]
     },
     "execution_count": 14,
     "metadata": {},
     "output_type": "execute_result"
    }
   ],
   "source": [
    "Hy"
   ]
  },
  {
   "cell_type": "code",
   "execution_count": 15,
   "metadata": {},
   "outputs": [],
   "source": [
    "M = Matrix([0, 0, m])"
   ]
  },
  {
   "cell_type": "code",
   "execution_count": 16,
   "metadata": {},
   "outputs": [],
   "source": [
    "R = Matrix([x, y, z])"
   ]
  },
  {
   "cell_type": "code",
   "execution_count": 17,
   "metadata": {},
   "outputs": [
    {
     "data": {
      "text/latex": [
       "$\\displaystyle \\left[\\begin{matrix}m x z\\\\m y z\\\\m z^{2}\\end{matrix}\\right]$"
      ],
      "text/plain": [
       "Matrix([\n",
       "[ m*x*z],\n",
       "[ m*y*z],\n",
       "[m*z**2]])"
      ]
     },
     "metadata": {},
     "output_type": "display_data"
    }
   ],
   "source": [
    "display(M.dot(R) * R)"
   ]
  },
  {
   "cell_type": "code",
   "execution_count": 18,
   "metadata": {},
   "outputs": [],
   "source": [
    "H = lambda M: (M.dot(R) * (3 + I * k * r - k**2 * r**2) * R / r**2 - (1 + I * k * r - k**2 * r**2) * M) * exp(-I * k * r) / (4 * pi * r**3)"
   ]
  },
  {
   "cell_type": "code",
   "execution_count": 19,
   "metadata": {},
   "outputs": [
    {
     "data": {
      "text/latex": [
       "$\\displaystyle \\left[\\begin{matrix}\\frac{m x z \\left(- k^{2} r^{2} + i k r + 3\\right) e^{- i k r}}{4 \\pi r^{5}}\\\\\\frac{m y z \\left(- k^{2} r^{2} + i k r + 3\\right) e^{- i k r}}{4 \\pi r^{5}}\\\\\\frac{\\left(- m \\left(- k^{2} r^{2} + i k r + 1\\right) + \\frac{m z^{2} \\left(- k^{2} r^{2} + i k r + 3\\right)}{r^{2}}\\right) e^{- i k r}}{4 \\pi r^{3}}\\end{matrix}\\right]$"
      ],
      "text/plain": [
       "Matrix([\n",
       "[                                      m*x*z*(-k**2*r**2 + I*k*r + 3)*exp(-I*k*r)/(4*pi*r**5)],\n",
       "[                                      m*y*z*(-k**2*r**2 + I*k*r + 3)*exp(-I*k*r)/(4*pi*r**5)],\n",
       "[(-m*(-k**2*r**2 + I*k*r + 1) + m*z**2*(-k**2*r**2 + I*k*r + 3)/r**2)*exp(-I*k*r)/(4*pi*r**3)]])"
      ]
     },
     "execution_count": 19,
     "metadata": {},
     "output_type": "execute_result"
    }
   ],
   "source": [
    "H(M)"
   ]
  },
  {
   "cell_type": "code",
   "execution_count": 20,
   "metadata": {},
   "outputs": [
    {
     "data": {
      "text/latex": [
       "$\\displaystyle - \\frac{m x z \\left(k^{2} r^{2} - 3 i k r - 3\\right) e^{- i k r}}{4 \\pi r^{5}}$"
      ],
      "text/plain": [
       "-m*x*z*(k**2*r**2 - 3*I*k*r - 3)*exp(-I*k*r)/(4*pi*r**5)"
      ]
     },
     "execution_count": 20,
     "metadata": {},
     "output_type": "execute_result"
    }
   ],
   "source": [
    "Hx"
   ]
  },
  {
   "cell_type": "code",
   "execution_count": 21,
   "metadata": {},
   "outputs": [
    {
     "data": {
      "text/latex": [
       "$\\displaystyle \\frac{i m \\mu \\omega e^{- i k r}}{4 \\pi r}$"
      ],
      "text/plain": [
       "I*m*mu*omega*exp(-I*k*r)/(4*pi*r)"
      ]
     },
     "execution_count": 21,
     "metadata": {},
     "output_type": "execute_result"
    }
   ],
   "source": [
    "Fz"
   ]
  },
  {
   "cell_type": "code",
   "execution_count": 23,
   "metadata": {},
   "outputs": [
    {
     "data": {
      "text/latex": [
       "$\\displaystyle \\frac{e^{- i k r}}{r}$"
      ],
      "text/plain": [
       "exp(-I*k*r)/r"
      ]
     },
     "execution_count": 23,
     "metadata": {},
     "output_type": "execute_result"
    }
   ],
   "source": [
    "G = exp(-I * k * r) / r\n",
    "G"
   ]
  },
  {
   "cell_type": "code",
   "execution_count": 24,
   "metadata": {},
   "outputs": [
    {
     "data": {
      "text/latex": [
       "$\\displaystyle \\frac{z \\left(- i k r - 1\\right) e^{- i k r}}{r^{3}}$"
      ],
      "text/plain": [
       "z*(-I*k*r - 1)*exp(-I*k*r)/r**3"
      ]
     },
     "execution_count": 24,
     "metadata": {},
     "output_type": "execute_result"
    }
   ],
   "source": [
    "chain(G, z)"
   ]
  },
  {
   "cell_type": "code",
   "execution_count": 25,
   "metadata": {},
   "outputs": [
    {
     "data": {
      "text/latex": [
       "$\\displaystyle \\frac{\\left(- k^{2} r^{2} z^{2} - r^{2} \\left(i k r + 1\\right) + 3 z^{2} \\left(i k r + 1\\right)\\right) e^{- i k r}}{r^{5}}$"
      ],
      "text/plain": [
       "(-k**2*r**2*z**2 - r**2*(I*k*r + 1) + 3*z**2*(I*k*r + 1))*exp(-I*k*r)/r**5"
      ]
     },
     "execution_count": 25,
     "metadata": {},
     "output_type": "execute_result"
    }
   ],
   "source": [
    "chain(chain(G, z), z)"
   ]
  },
  {
   "cell_type": "code",
   "execution_count": 26,
   "metadata": {},
   "outputs": [
    {
     "data": {
      "text/latex": [
       "$\\displaystyle \\frac{3}{r^{4}}$"
      ],
      "text/plain": [
       "3/r**4"
      ]
     },
     "execution_count": 26,
     "metadata": {},
     "output_type": "execute_result"
    }
   ],
   "source": [
    "diff(-1/r**3, r)"
   ]
  },
  {
   "cell_type": "code",
   "execution_count": null,
   "metadata": {},
   "outputs": [],
   "source": []
  }
 ],
 "metadata": {
  "kernelspec": {
   "display_name": "base",
   "language": "python",
   "name": "python3"
  },
  "language_info": {
   "codemirror_mode": {
    "name": "ipython",
    "version": 3
   },
   "file_extension": ".py",
   "mimetype": "text/x-python",
   "name": "python",
   "nbconvert_exporter": "python",
   "pygments_lexer": "ipython3",
   "version": "3.12.6"
  }
 },
 "nbformat": 4,
 "nbformat_minor": 4
}
