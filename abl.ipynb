{
 "cells": [
  {
   "cell_type": "code",
   "execution_count": 26,
   "metadata": {},
   "outputs": [],
   "source": [
    "from sympy import diff, symbols, sqrt, pi, exp, I, simplify\n",
    "x, y, z, r, omega, mu, sigma, m = symbols('x y z r omega mu sigma m', real=True)\n",
    "k = symbols('k')"
   ]
  },
  {
   "cell_type": "code",
   "execution_count": 27,
   "metadata": {},
   "outputs": [
    {
     "data": {
      "text/latex": [
       "$\\displaystyle \\frac{i m \\mu \\omega e^{- i k r}}{4 \\pi r}$"
      ],
      "text/plain": [
       "I*m*mu*omega*exp(-I*k*r)/(4*pi*r)"
      ]
     },
     "execution_count": 27,
     "metadata": {},
     "output_type": "execute_result"
    }
   ],
   "source": [
    "# r = sqrt(x**2 + y**2 + z**2)\n",
    "Fz = I * omega * mu * m / (4 * pi * r) * exp(-I * k * r)\n",
    "Fz"
   ]
  },
  {
   "cell_type": "code",
   "execution_count": 28,
   "metadata": {},
   "outputs": [
    {
     "data": {
      "text/latex": [
       "$\\displaystyle \\frac{m \\mu \\omega \\left(k r - i\\right) e^{- i k r}}{4 \\pi r^{2}}$"
      ],
      "text/plain": [
       "m*mu*omega*(k*r - I)*exp(-I*k*r)/(4*pi*r**2)"
      ]
     },
     "execution_count": 28,
     "metadata": {},
     "output_type": "execute_result"
    }
   ],
   "source": [
    "diff(Fz, r).factor().simplify()"
   ]
  },
  {
   "cell_type": "code",
   "execution_count": 29,
   "metadata": {},
   "outputs": [
    {
     "data": {
      "text/latex": [
       "$\\displaystyle k r - i$"
      ],
      "text/plain": [
       "k*r - I"
      ]
     },
     "execution_count": 29,
     "metadata": {},
     "output_type": "execute_result"
    }
   ],
   "source": [
    "simplify(-I*(1+I*k*r))"
   ]
  },
  {
   "cell_type": "markdown",
   "metadata": {},
   "source": [
    "$$\n",
    "\\frac{-i \\omega \\mu m }{4 \\pi r^2} (1 + i k r) \\exp(-i k r)\n",
    "$$"
   ]
  },
  {
   "cell_type": "code",
   "execution_count": null,
   "metadata": {},
   "outputs": [],
   "source": []
  }
 ],
 "metadata": {
  "kernelspec": {
   "display_name": "base",
   "language": "python",
   "name": "python3"
  },
  "language_info": {
   "codemirror_mode": {
    "name": "ipython",
    "version": 3
   },
   "file_extension": ".py",
   "mimetype": "text/x-python",
   "name": "python",
   "nbconvert_exporter": "python",
   "pygments_lexer": "ipython3",
   "version": "3.11.8"
  }
 },
 "nbformat": 4,
 "nbformat_minor": 2
}
