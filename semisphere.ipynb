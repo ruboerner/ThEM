{
 "cells": [
  {
   "cell_type": "markdown",
   "id": "1b0a89b6-806a-426d-a986-896aa8070394",
   "metadata": {},
   "source": [
    "# Potential of a point source in a semi-sphere embedded in a uniform halfspace "
   ]
  },
  {
   "cell_type": "code",
   "execution_count": 1,
   "id": "ad7a6582-5a62-4edd-8c29-4b0aa1aa5731",
   "metadata": {},
   "outputs": [],
   "source": [
    "from sympy import *\n",
    "import numpy as np"
   ]
  },
  {
   "cell_type": "markdown",
   "id": "23a6749c-c34d-4f40-9c74-957c494adb11",
   "metadata": {},
   "source": [
    "We consider a uniform halfspace with resistivity $\\rho_2$. There is a point source $I$ located at the origin. The semi-sphere of radius $a$ has a resistivity of $\\rho_1$. The semi-sphere is aligned with the $z$-axis.\n",
    "\n",
    "We make the ansatz:\n",
    "$$\n",
    "U_1(r) &= \\frac{\\rho_1 I}{2 \\pi r} + A \\qquad & r < a \\\\\n",
    "U_2(r) &= \\frac{\\rho_2 B}{2 \\pi r} \\qquad & r > a\n",
    "$$\n",
    "To solve for the unknowns $A$ and $B$ we need the conditions of continuity at the surface of the semisphere, where $r=a$:\n",
    "$$\n",
    "\\label{eq:contU}\n",
    "U_1 = U_2 \\\\\n",
    "\\frac{1}{\\rho_1} \\partial_r U_1 = \\frac{1}{\\rho_2} \\partial_r U_2\n",
    "$$"
   ]
  },
  {
   "cell_type": "code",
   "execution_count": 2,
   "id": "3de24ef4-aa22-4076-a71c-293a2534fb17",
   "metadata": {},
   "outputs": [],
   "source": [
    "a, r, rho1, rho2, I = symbols('a r rho_1 rho_2 I', real=True, positive=True)\n",
    "A, B = symbols(\"A B\", real=True)"
   ]
  },
  {
   "cell_type": "code",
   "execution_count": 3,
   "id": "4a21415f-c839-461a-b5ed-596ad669dfed",
   "metadata": {},
   "outputs": [],
   "source": [
    "U_1 = rho1 * I / (2 * pi * r) + A\n",
    "U_2 = rho2 * B / (2 * pi * r)"
   ]
  },
  {
   "cell_type": "code",
   "execution_count": 4,
   "id": "07ce2daa-9480-4af2-8254-28c55f4cfcc7",
   "metadata": {},
   "outputs": [],
   "source": [
    "dU1dr = diff(U_1, r)\n",
    "dU2dr = diff(U_2, r)"
   ]
  },
  {
   "cell_type": "code",
   "execution_count": 5,
   "id": "476812c6-913c-4ac5-aab7-a8520fba03c5",
   "metadata": {},
   "outputs": [],
   "source": [
    "ex1 = U_1 - U_2\n",
    "ex2 = dU1dr / rho1 - dU2dr / rho2"
   ]
  },
  {
   "cell_type": "code",
   "execution_count": 6,
   "id": "5dac4b36-d984-43b1-a5bb-eddb28695c2f",
   "metadata": {},
   "outputs": [],
   "source": [
    "sols = solve([ex1.subs(r, a), ex2.subs(r, a)], [A, B])"
   ]
  },
  {
   "cell_type": "code",
   "execution_count": 7,
   "id": "69e039fb-a880-47ff-afd4-e35927d5062c",
   "metadata": {},
   "outputs": [],
   "source": [
    "A_ = sols[A].simplify()\n",
    "B_ = sols[B].simplify()"
   ]
  },
  {
   "cell_type": "code",
   "execution_count": 8,
   "id": "6923e75c-354c-4e4c-b745-aee42146c883",
   "metadata": {},
   "outputs": [],
   "source": [
    "U1 = U_1.subs(A, A_)\n",
    "U2 = U_2.subs(B, B_)"
   ]
  },
  {
   "cell_type": "code",
   "execution_count": 9,
   "id": "52342a46-6ea0-4715-9a70-6db58351c2ee",
   "metadata": {},
   "outputs": [
    {
     "data": {
      "text/latex": [
       "$\\displaystyle \\frac{I \\rho_{1}}{2 \\pi r} + \\frac{I \\left(- \\rho_{1} + \\rho_{2}\\right)}{2 \\pi a}$"
      ],
      "text/plain": [
       "I*rho_1/(2*pi*r) + I*(-rho_1 + rho_2)/(2*pi*a)"
      ]
     },
     "execution_count": 9,
     "metadata": {},
     "output_type": "execute_result"
    }
   ],
   "source": [
    "U1"
   ]
  },
  {
   "cell_type": "code",
   "execution_count": 10,
   "id": "1fa0c35d-951d-44c2-9fa8-653598cbf695",
   "metadata": {},
   "outputs": [
    {
     "data": {
      "text/latex": [
       "$\\displaystyle \\frac{I \\rho_{2}}{2 \\pi r}$"
      ],
      "text/plain": [
       "I*rho_2/(2*pi*r)"
      ]
     },
     "execution_count": 10,
     "metadata": {},
     "output_type": "execute_result"
    }
   ],
   "source": [
    "U2"
   ]
  },
  {
   "cell_type": "markdown",
   "id": "3735f4c5-7fe7-4098-9d0f-cbc5bc271487",
   "metadata": {},
   "source": [
    "We obtain  the following results:\n",
    "\n",
    "For $r \\le a$ it holds\n",
    "$$\n",
    "\\label{u1}\n",
    "U_1(r) = \\frac{I \\rho_{1}}{2 \\pi r} + \\frac{I \\left(\\rho_{2} - \\rho_{1}\\right)}{2 \\pi a}\n",
    "$$\n",
    "whereas for $r \\ge a$ we find\n",
    "$$\n",
    "U_2(r) = \\frac{I \\rho_{2}}{2 \\pi r}\n",
    "$$\n"
   ]
  },
  {
   "cell_type": "markdown",
   "id": "5f70aad1-6f4f-4ec5-a74b-842c0c828c29",
   "metadata": {},
   "source": [
    "## Verification\n",
    "Let's check that the potential and the current density are actually continuous at $r=a$.\n",
    "\n",
    "We first form the respective expressions for $r=a$ and check if the results vanish according to [](#eq:contU)."
   ]
  },
  {
   "cell_type": "code",
   "execution_count": 11,
   "id": "4bcf6029-94ea-4326-93cd-fcb1225c1a1c",
   "metadata": {},
   "outputs": [
    {
     "data": {
      "text/latex": [
       "$\\displaystyle \\frac{I \\rho_{1}}{2 \\pi a} - \\frac{I \\rho_{2}}{2 \\pi a} + \\frac{I \\left(- \\rho_{1} + \\rho_{2}\\right)}{2 \\pi a}$"
      ],
      "text/plain": [
       "I*rho_1/(2*pi*a) - I*rho_2/(2*pi*a) + I*(-rho_1 + rho_2)/(2*pi*a)"
      ]
     },
     "execution_count": 11,
     "metadata": {},
     "output_type": "execute_result"
    }
   ],
   "source": [
    "D = U1.subs(r,a) - U2.subs(r,a)\n",
    "D"
   ]
  },
  {
   "cell_type": "code",
   "execution_count": 12,
   "id": "eebdb1dd-8ca6-4242-a4ef-5f76389ead3a",
   "metadata": {},
   "outputs": [
    {
     "data": {
      "text/latex": [
       "$\\displaystyle 0$"
      ],
      "text/plain": [
       "0"
      ]
     },
     "execution_count": 12,
     "metadata": {},
     "output_type": "execute_result"
    }
   ],
   "source": [
    "D.simplify()"
   ]
  },
  {
   "cell_type": "markdown",
   "id": "4d2f2e3a-ce82-4c6e-a79e-5c7fefc8071b",
   "metadata": {},
   "source": [
    "This result can be obtained directly by using the expression `ex1` for the continuity of the potential:"
   ]
  },
  {
   "cell_type": "code",
   "execution_count": 13,
   "id": "368c4a25-27ac-40b1-b3e6-6366c7cf5600",
   "metadata": {},
   "outputs": [
    {
     "data": {
      "text/latex": [
       "$\\displaystyle 0$"
      ],
      "text/plain": [
       "0"
      ]
     },
     "execution_count": 13,
     "metadata": {},
     "output_type": "execute_result"
    }
   ],
   "source": [
    "ex1.subs(r, a).subs(A, A_).subs(B, B_).simplify()"
   ]
  },
  {
   "cell_type": "markdown",
   "id": "2a381163-bc9a-4681-bd74-27ce716f3b7b",
   "metadata": {},
   "source": [
    "In `ex2` we have used the condition for continuity of the radial component of the current densities:"
   ]
  },
  {
   "cell_type": "code",
   "execution_count": 14,
   "id": "a6539118-9e0f-4c1d-93c5-8264f7bbfaee",
   "metadata": {},
   "outputs": [
    {
     "data": {
      "text/latex": [
       "$\\displaystyle 0$"
      ],
      "text/plain": [
       "0"
      ]
     },
     "execution_count": 14,
     "metadata": {},
     "output_type": "execute_result"
    }
   ],
   "source": [
    "ex2.subs(r, a).subs(B, B_)"
   ]
  },
  {
   "cell_type": "markdown",
   "id": "ef557ade-c13e-4962-8ea2-bb3e69523873",
   "metadata": {},
   "source": [
    "Both results indicate that the conditions of continuity are fullfilled."
   ]
  },
  {
   "cell_type": "markdown",
   "id": "59e36294-329a-462e-9a0e-78d8df282322",
   "metadata": {},
   "source": [
    "## Visualization of the result"
   ]
  },
  {
   "cell_type": "code",
   "execution_count": 15,
   "id": "8fdaf749-fda0-4136-be93-0e96c64c4a98",
   "metadata": {},
   "outputs": [],
   "source": [
    "import matplotlib.pyplot as plt"
   ]
  },
  {
   "cell_type": "code",
   "execution_count": 16,
   "id": "ce64a8f5-b8c3-4045-b189-bce16a0fc4d7",
   "metadata": {},
   "outputs": [],
   "source": [
    "rho1_n = 100.0\n",
    "rho2_n = 1000.0\n",
    "a_n = 3.0"
   ]
  },
  {
   "cell_type": "code",
   "execution_count": 17,
   "id": "f7c6c8a7-57ee-471a-a7e8-f760c66c560a",
   "metadata": {},
   "outputs": [],
   "source": [
    "U1_f = lambdify([rho1, rho2, r, a, I], U1)\n",
    "U2_f = lambdify([rho1, rho2, r, a, I], U2)"
   ]
  },
  {
   "cell_type": "code",
   "execution_count": 18,
   "id": "f41cabc6-5769-4345-969c-50a4e7bad515",
   "metadata": {},
   "outputs": [],
   "source": [
    "R1 = np.arange(1.0, a_n + .01, 0.1)\n",
    "R2 = np.arange(a_n, 10.0, 0.1)"
   ]
  },
  {
   "cell_type": "code",
   "execution_count": 19,
   "id": "ed43886c-6e1b-4ba3-9d59-21fc6475806e",
   "metadata": {},
   "outputs": [
    {
     "data": {
      "image/png": "[encoded data removed]",
      "text/plain": [
       "<Figure size 640x480 with 1 Axes>"
      ]
     },
     "metadata": {},
     "output_type": "display_data"
    }
   ],
   "source": [
    "plt.plot(R1, [U1_f(rho1_n, rho2_n, r, a_n, 1.0) for r in R1])\n",
    "plt.plot(R2, [U2_f(rho1_n, rho2_n, r, a_n, 1.0) for r in R2])\n",
    "plt.title(\"Electric Potential\")\n",
    "plt.xlabel(\"r\")\n",
    "plt.grid(True)\n",
    "plt.show()"
   ]
  },
  {
   "cell_type": "code",
   "execution_count": 20,
   "id": "f1ca949d-f637-4c75-a1d8-8d61c6771b67",
   "metadata": {},
   "outputs": [],
   "source": [
    "E1_f = lambdify([rho1, rho2, r, a, I], -diff(U1, r))\n",
    "E2_f = lambdify([rho1, rho2, r, a, I], -diff(U2, r))\n",
    "\n",
    "j1_f = lambdify([rho1, rho2, r, a, I], -diff(U1, r) / rho1)\n",
    "j2_f = lambdify([rho1, rho2, r, a, I], -diff(U2, r) / rho2)\n"
   ]
  },
  {
   "cell_type": "code",
   "execution_count": 21,
   "id": "9a038554-3368-4f9d-bb43-4ccb4cbe2135",
   "metadata": {},
   "outputs": [
    {
     "data": {
      "image/png": "[encoded data removed]",
      "text/plain": [
       "<Figure size 640x480 with 1 Axes>"
      ]
     },
     "metadata": {},
     "output_type": "display_data"
    }
   ],
   "source": [
    "plt.plot(R1, [j1_f(rho1_n, rho2_n, r, a_n, 1.0) for r in R1])\n",
    "plt.plot(R2, [j2_f(rho1_n, rho2_n, r, a_n, 1.0) for r in R2])\n",
    "plt.title(\"Current density\")\n",
    "plt.xlabel(\"r\")\n",
    "plt.grid(True)\n",
    "plt.show()"
   ]
  },
  {
   "cell_type": "code",
   "execution_count": 22,
   "id": "20215616-2a8a-4ee5-8aee-5bc05c6518c3",
   "metadata": {},
   "outputs": [
    {
     "data": {
      "image/png": "[encoded data removed]",
      "text/plain": [
       "<Figure size 640x480 with 1 Axes>"
      ]
     },
     "metadata": {},
     "output_type": "display_data"
    }
   ],
   "source": [
    "plt.plot(R1, [E1_f(rho1_n, rho2_n, r, a_n, 1.0) for r in R1])\n",
    "plt.plot(R2, [E2_f(rho1_n, rho2_n, r, a_n, 1.0) for r in R2])\n",
    "plt.title(\"Electric Field\")\n",
    "plt.xlabel(\"r\")\n",
    "plt.grid(True)\n",
    "plt.show()"
   ]
  },
  {
   "cell_type": "markdown",
   "id": "60ce222a-0776-48cb-8cf6-0763a43f397a",
   "metadata": {
    "user_expressions": [
     {
      "expression": "a_n",
      "result": {
       "data": {
        "text/plain": "3.0"
       },
       "metadata": {},
       "status": "ok"
      }
     }
    ]
   },
   "source": [
    "The value of `a` a is {eval}`a_n` "
   ]
  },
  {
   "cell_type": "markdown",
   "id": "c7b4c7bf-6cde-4a94-9868-e6fea7a1a410",
   "metadata": {},
   "source": []
  },
  {
   "cell_type": "code",
   "execution_count": null,
   "id": "b50e0936-6f9f-459d-9f9e-194e5819993d",
   "metadata": {},
   "outputs": [],
   "source": []
  }
 ],
 "metadata": {
  "kernelspec": {
   "display_name": "Python 3 (ipykernel)",
   "language": "python",
   "name": "python3"
  },
  "language_info": {
   "codemirror_mode": {
    "name": "ipython",
    "version": 3
   },
   "file_extension": ".py",
   "mimetype": "text/x-python",
   "name": "python",
   "nbconvert_exporter": "python",
   "pygments_lexer": "ipython3",
   "version": "3.11.8"
  }
 },
 "nbformat": 4,
 "nbformat_minor": 5
}
