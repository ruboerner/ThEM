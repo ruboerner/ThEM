{
 "cells": [
  {
   "cell_type": "code",
   "execution_count": 1,
   "id": "98c29483-776e-4116-a905-7667ca0abc7c",
   "metadata": {},
   "outputs": [],
   "source": [
    "import pygimli as pg"
   ]
  },
  {
   "cell_type": "code",
   "execution_count": null,
   "id": "fb3babba-d060-4d0c-8f88-84c7b87dc958",
   "metadata": {},
   "outputs": [],
   "source": []
  }
 ],
 "metadata": {
  "kernelspec": {
   "display_name": "pg15",
   "language": "python",
   "name": "pg15"
  },
  "language_info": {
   "codemirror_mode": {
    "name": "ipython",
    "version": 3
   },
   "file_extension": ".py",
   "mimetype": "text/x-python",
   "name": "python",
   "nbconvert_exporter": "python",
   "pygments_lexer": "ipython3",
   "version": "3.11.8"
  }
 },
 "nbformat": 4,
 "nbformat_minor": 5
}
