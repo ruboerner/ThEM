


from sympy import *
import numpy as np





a, r, rho1, rho2, I = symbols('a r rho_1 rho_2 I', real=True, positive=True)
A, B = symbols("A B", real=True)


U_1 = rho1 * I / (2 * pi * r) + A
U_2 = rho2 * B / (2 * pi * r)


dU1dr = diff(U_1, r)
dU2dr = diff(U_2, r)


ex1 = U_1 - U_2
ex2 = dU1dr / rho1 - dU2dr / rho2


sols = solve([ex1.subs(r, a), ex2.subs(r, a)], [A, B])


A_ = sols[A].simplify()
B_ = sols[B].simplify()


U1 = U_1.subs(A, A_)
U2 = U_2.subs(B, B_)


U1


U2








D = U1.subs(r,a) - U2.subs(r,a)
D


D.simplify()





ex1.subs(r, a).subs(A, A_).subs(B, B_).simplify()





ex2.subs(r, a).subs(B, B_)








import matplotlib.pyplot as plt


rho1_n = 100.0
rho2_n = 1000.0
a_n = 5.0


U1_f = lambdify([rho1, rho2, r, a, I], U1)
U2_f = lambdify([rho1, rho2, r, a, I], U2)


R1 = np.arange(1.0, a_n + .01, 0.1)
R2 = np.arange(a_n, 10.0, 0.1)


plt.plot(R1, [U1_f(rho1_n, rho2_n, r, a_n, 1.0) for r in R1])
plt.plot(R2, [U2_f(rho1_n, rho2_n, r, a_n, 1.0) for r in R2])
plt.title("Electric Potential")
plt.xlabel("r")
plt.grid(True)
plt.show()


E1_f = lambdify([rho1, rho2, r, a, I], -diff(U1, r))
E2_f = lambdify([rho1, rho2, r, a, I], -diff(U2, r))

j1_f = lambdify([rho1, rho2, r, a, I], -diff(U1, r) / rho1)
j2_f = lambdify([rho1, rho2, r, a, I], -diff(U2, r) / rho2)



plt.plot(R1, [j1_f(rho1_n, rho2_n, r, a_n, 1.0) for r in R1])
plt.plot(R2, [j2_f(rho1_n, rho2_n, r, a_n, 1.0) for r in R2])
plt.title("Current density")
plt.xlabel("r")
plt.grid(True)
plt.show()


plt.plot(R1, [E1_f(rho1_n, rho2_n, r, a_n, 1.0) for r in R1])
plt.plot(R2, [E2_f(rho1_n, rho2_n, r, a_n, 1.0) for r in R2])
plt.title("Electric Field")
plt.xlabel("r")
plt.grid(True)
plt.show()









